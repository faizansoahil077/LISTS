{
 "cells": [
  {
   "cell_type": "code",
   "execution_count": 15,
   "metadata": {},
   "outputs": [
    {
     "name": "stdout",
     "output_type": "stream",
     "text": [
      "my first friend was Ali in class\n"
     ]
    }
   ],
   "source": [
    "friends = ['ali','hassan','sufyan']\n",
    "message=\"my first friend was \"+ friends[0].title() +\" in class\"\n",
    "print(message)"
   ]
  },
  {
   "cell_type": "code",
   "execution_count": 17,
   "metadata": {},
   "outputs": [
    {
     "name": "stdout",
     "output_type": "stream",
     "text": [
      "i wnat to travel to huwai\n"
     ]
    }
   ],
   "source": [
    "dreams =[\"travel\",\"building\",\"luxury\"]\n",
    "message =\"i wnat to \"+dreams[0]+\" to huwai\"\n",
    "print (message)"
   ]
  },
  {
   "cell_type": "code",
   "execution_count": 21,
   "metadata": {},
   "outputs": [
    {
     "name": "stdout",
     "output_type": "stream",
     "text": [
      "['ducati', 'building', 'luxury']\n"
     ]
    }
   ],
   "source": [
    "dreams[0]='ducati'\n",
    "print(dreams)"
   ]
  },
  {
   "cell_type": "code",
   "execution_count": 22,
   "metadata": {},
   "outputs": [
    {
     "name": "stdout",
     "output_type": "stream",
     "text": [
      "['ducati', 'building', 'luxury', 'bugati']\n"
     ]
    }
   ],
   "source": [
    "dreams.append('bugati')\n",
    "print(dreams)"
   ]
  },
  {
   "cell_type": "code",
   "execution_count": 23,
   "metadata": {},
   "outputs": [
    {
     "name": "stdout",
     "output_type": "stream",
     "text": [
      "['honda', 'ducati', 'building', 'luxury', 'bugati']\n"
     ]
    }
   ],
   "source": [
    "dreams.insert(0,'honda')\n",
    "print(dreams)"
   ]
  },
  {
   "cell_type": "code",
   "execution_count": 24,
   "metadata": {},
   "outputs": [
    {
     "name": "stdout",
     "output_type": "stream",
     "text": [
      "['honda', 'ducati', 'building', 'luxury', 'bugati']\n"
     ]
    }
   ],
   "source": [
    "print(dreams)"
   ]
  },
  {
   "cell_type": "code",
   "execution_count": 28,
   "metadata": {},
   "outputs": [
    {
     "name": "stdout",
     "output_type": "stream",
     "text": [
      "['honda', 'building', 'luxury']\n",
      "ducati\n"
     ]
    }
   ],
   "source": [
    "popped_dreams=dreams.pop()\n",
    "print(dreams)\n",
    "print(popped_dreams)"
   ]
  },
  {
   "cell_type": "code",
   "execution_count": 30,
   "metadata": {},
   "outputs": [
    {
     "name": "stdout",
     "output_type": "stream",
     "text": [
      "['honda', 'luxury']\n"
     ]
    }
   ],
   "source": [
    "dreams.remove('building')\n",
    "print(dreams)"
   ]
  },
  {
   "cell_type": "code",
   "execution_count": 49,
   "metadata": {},
   "outputs": [
    {
     "name": "stdout",
     "output_type": "stream",
     "text": [
      "['luxury', 0, 0, 1, 'honda']\n"
     ]
    }
   ],
   "source": [
    "\n",
    "dreams.append('honda')\n",
    "print(dreams)"
   ]
  },
  {
   "cell_type": "code",
   "execution_count": 48,
   "metadata": {},
   "outputs": [
    {
     "name": "stdout",
     "output_type": "stream",
     "text": [
      "it is not honda that i want\n"
     ]
    }
   ],
   "source": [
    "not_worthit ='honda'\n",
    "dreams.remove(not_worthit)\n",
    "\n",
    "print(\"it is not \"+not_worthit+\" that i want\")"
   ]
  },
  {
   "cell_type": "code",
   "execution_count": 83,
   "metadata": {},
   "outputs": [
    {
     "name": "stdout",
     "output_type": "stream",
     "text": [
      "['ali', 'hassan', 'faizan']\n"
     ]
    }
   ],
   "source": [
    "friends=['ali','hassan','faizan']\n",
    "print(friends)"
   ]
  },
  {
   "cell_type": "code",
   "execution_count": 101,
   "metadata": {},
   "outputs": [
    {
     "name": "stdout",
     "output_type": "stream",
     "text": [
      "['ali', 'sohail', 'faizan']\n"
     ]
    }
   ],
   "source": [
    "friends[0]='ali'\n",
    "print(friends)"
   ]
  },
  {
   "cell_type": "code",
   "execution_count": 91,
   "metadata": {},
   "outputs": [
    {
     "name": "stdout",
     "output_type": "stream",
     "text": [
      "thnks for coming Ali.\n",
      " thnks for coming Hassan.\n",
      "thnks for coming Faizan.\n"
     ]
    }
   ],
   "source": [
    "print(\"thnks for coming \"+friends[0].title()+\".\")\n",
    "print(\" thnks for coming \"+friends[1].title()+\".\")\n",
    "print(\"thnks for coming \"+friends[2].title()+\".\")"
   ]
  },
  {
   "cell_type": "code",
   "execution_count": 105,
   "metadata": {},
   "outputs": [
    {
     "ename": "SyntaxError",
     "evalue": "unexpected EOF while parsing (<ipython-input-105-88401c229b29>, line 5)",
     "output_type": "error",
     "traceback": [
      "\u001b[1;36m  File \u001b[1;32m\"<ipython-input-105-88401c229b29>\"\u001b[1;36m, line \u001b[1;32m5\u001b[0m\n\u001b[1;33m    print(friends\u001b[0m\n\u001b[1;37m                 ^\u001b[0m\n\u001b[1;31mSyntaxError\u001b[0m\u001b[1;31m:\u001b[0m unexpected EOF while parsing\n"
     ]
    }
   ],
   "source": [
    "sorry_friend=friends.pop()\n",
    "print(friends)\n",
    "print(sorry_friend)\n"
   ]
  },
  {
   "cell_type": "code",
   "execution_count": 106,
   "metadata": {},
   "outputs": [
    {
     "name": "stdout",
     "output_type": "stream",
     "text": [
      "['ali', 'hassan', 'faizan']\n"
     ]
    }
   ],
   "source": [
    "friends_o=['ali','hassan','faizan']\n",
    "print(friends_o)"
   ]
  },
  {
   "cell_type": "code",
   "execution_count": 107,
   "metadata": {},
   "outputs": [
    {
     "name": "stdout",
     "output_type": "stream",
     "text": [
      "['ali', 'faizan']\n"
     ]
    }
   ],
   "source": [
    "del friends_o[1]\n",
    "print(friends_o)"
   ]
  },
  {
   "cell_type": "code",
   "execution_count": 108,
   "metadata": {},
   "outputs": [
    {
     "name": "stdout",
     "output_type": "stream",
     "text": [
      "sorry dear next time hira\n"
     ]
    }
   ],
   "source": [
    "names=['faizan','hassan','hira']\n",
    "names_popped=names.pop(2)\n",
    "message=\"sorry dear next time \"\n",
    "print(message+names_popped)"
   ]
  },
  {
   "cell_type": "code",
   "execution_count": 112,
   "metadata": {},
   "outputs": [
    {
     "name": "stdout",
     "output_type": "stream",
     "text": [
      "you are still invited faizan\n",
      "you are still invited hassan\n"
     ]
    }
   ],
   "source": [
    "print('you are still invited '+names[0])\n",
    "print('you are still invited '+names[1])"
   ]
  },
  {
   "cell_type": "code",
   "execution_count": 117,
   "metadata": {},
   "outputs": [
    {
     "name": "stdout",
     "output_type": "stream",
     "text": [
      "[]\n"
     ]
    }
   ],
   "source": [
    "del names[0]\n",
    "\n",
    "print(names)"
   ]
  },
  {
   "cell_type": "code",
   "execution_count": 124,
   "metadata": {},
   "outputs": [
    {
     "name": "stdout",
     "output_type": "stream",
     "text": [
      "['dubai', 'ibiza', 'spain', 'thailand', 'europe', 'bangkok']\n"
     ]
    }
   ],
   "source": [
    "places=['dubai','ibiza','spain','thailand','europe','bangkok']\n",
    "print(places)"
   ]
  },
  {
   "cell_type": "code",
   "execution_count": 126,
   "metadata": {},
   "outputs": [
    {
     "name": "stdout",
     "output_type": "stream",
     "text": [
      "its original methond\n",
      "['dubai', 'ibiza', 'spain', 'thailand', 'europe', 'bangkok']\n",
      "['bangkok', 'dubai', 'europe', 'ibiza', 'spain', 'thailand']\n"
     ]
    }
   ],
   "source": [
    "print(\"its original methond\")\n",
    "print(places)\n",
    "\n",
    "print(sorted(places))\n"
   ]
  },
  {
   "cell_type": "code",
   "execution_count": 127,
   "metadata": {},
   "outputs": [
    {
     "name": "stdout",
     "output_type": "stream",
     "text": [
      "['bangkok', 'europe', 'thailand', 'spain', 'ibiza', 'dubai']\n"
     ]
    }
   ],
   "source": [
    "places.reverse()\n",
    "print(places)"
   ]
  },
  {
   "cell_type": "code",
   "execution_count": 128,
   "metadata": {},
   "outputs": [
    {
     "name": "stdout",
     "output_type": "stream",
     "text": [
      "its original\n",
      "['dubai', 'ibiza', 'spain', 'thailand', 'europe', 'bangkok']\n"
     ]
    }
   ],
   "source": [
    "places.reverse()\n",
    "print(\"its original\")\n",
    "print(places)"
   ]
  },
  {
   "cell_type": "code",
   "execution_count": 129,
   "metadata": {},
   "outputs": [
    {
     "name": "stdout",
     "output_type": "stream",
     "text": [
      "['bangkok', 'dubai', 'europe', 'ibiza', 'spain', 'thailand']\n"
     ]
    }
   ],
   "source": [
    "places.sort()\n",
    "print(places)"
   ]
  },
  {
   "cell_type": "code",
   "execution_count": 132,
   "metadata": {},
   "outputs": [
    {
     "name": "stdout",
     "output_type": "stream",
     "text": [
      "['thailand', 'spain', 'ibiza', 'europe', 'dubai', 'bangkok']\n"
     ]
    }
   ],
   "source": [
    "places.sort(reverse=True)\n",
    "print(places)"
   ]
  },
  {
   "cell_type": "code",
   "execution_count": 134,
   "metadata": {},
   "outputs": [
    {
     "data": {
      "text/plain": [
       "3"
      ]
     },
     "execution_count": 134,
     "metadata": {},
     "output_type": "execute_result"
    }
   ],
   "source": [
    "noble=['hassan','hira','aliza']\n",
    "len(noble)"
   ]
  },
  {
   "cell_type": "code",
   "execution_count": null,
   "metadata": {},
   "outputs": [],
   "source": []
  }
 ],
 "metadata": {
  "kernelspec": {
   "display_name": "Python 3",
   "language": "python",
   "name": "python3"
  },
  "language_info": {
   "codemirror_mode": {
    "name": "ipython",
    "version": 3
   },
   "file_extension": ".py",
   "mimetype": "text/x-python",
   "name": "python",
   "nbconvert_exporter": "python",
   "pygments_lexer": "ipython3",
   "version": "3.7.3"
  }
 },
 "nbformat": 4,
 "nbformat_minor": 2
}
